{
 "cells": [
  {
   "cell_type": "markdown",
   "id": "557b50c4",
   "metadata": {},
   "source": [
    "# Name: Tayyab Aslam\n",
    "# Roll NO: 23\n",
    "# Subject: ANN\n",
    "# Class: BS AI 7th"
   ]
  },
  {
   "cell_type": "markdown",
   "id": "f36ad6c0",
   "metadata": {},
   "source": [
    "# Handwritten Digit Recognition Using ANN"
   ]
  },
  {
   "cell_type": "code",
   "execution_count": 15,
   "id": "8cda744d",
   "metadata": {},
   "outputs": [
    {
     "name": "stdout",
     "output_type": "stream",
     "text": [
      "Epoch 1/10\n",
      "1688/1688 [==============================] - 8s 4ms/step - loss: 0.2524 - accuracy: 0.9262 - val_loss: 0.1286 - val_accuracy: 0.9605\n",
      "Epoch 2/10\n",
      "1688/1688 [==============================] - 6s 4ms/step - loss: 0.1058 - accuracy: 0.9678 - val_loss: 0.1031 - val_accuracy: 0.9698\n",
      "Epoch 3/10\n",
      "1688/1688 [==============================] - 6s 4ms/step - loss: 0.0743 - accuracy: 0.9766 - val_loss: 0.0871 - val_accuracy: 0.9737\n",
      "Epoch 4/10\n",
      "1688/1688 [==============================] - 6s 4ms/step - loss: 0.0550 - accuracy: 0.9828 - val_loss: 0.0808 - val_accuracy: 0.9743\n",
      "Epoch 5/10\n",
      "1688/1688 [==============================] - 6s 4ms/step - loss: 0.0429 - accuracy: 0.9860 - val_loss: 0.0782 - val_accuracy: 0.9762\n",
      "Epoch 6/10\n",
      "1688/1688 [==============================] - 6s 4ms/step - loss: 0.0347 - accuracy: 0.9880 - val_loss: 0.0894 - val_accuracy: 0.9735\n",
      "Epoch 7/10\n",
      "1688/1688 [==============================] - 6s 4ms/step - loss: 0.0295 - accuracy: 0.9899 - val_loss: 0.0777 - val_accuracy: 0.9788\n",
      "Epoch 8/10\n",
      "1688/1688 [==============================] - 6s 3ms/step - loss: 0.0253 - accuracy: 0.9918 - val_loss: 0.0783 - val_accuracy: 0.9790\n",
      "Epoch 9/10\n",
      "1688/1688 [==============================] - 6s 3ms/step - loss: 0.0196 - accuracy: 0.9936 - val_loss: 0.0778 - val_accuracy: 0.9817\n",
      "Epoch 10/10\n",
      "1688/1688 [==============================] - 6s 4ms/step - loss: 0.0189 - accuracy: 0.9940 - val_loss: 0.0843 - val_accuracy: 0.9797\n",
      "313/313 [==============================] - 1s 3ms/step - loss: 0.0976 - accuracy: 0.9780\n",
      "\n",
      "Test Accuracy: 97.80%\n"
     ]
    }
   ],
   "source": [
    "import numpy as np\n",
    "import pandas as pd\n",
    "import matplotlib.pyplot as plt\n",
    "import tensorflow as tf\n",
    "from tensorflow import keras\n",
    "from tensorflow.keras.models import Sequential\n",
    "from tensorflow.keras.layers import Dense, Flatten\n",
    "from tensorflow.keras.utils import to_categorical\n",
    "from sklearn.model_selection import train_test_split\n",
    "from sklearn.preprocessing import StandardScaler\n",
    "\n",
    "# Load MNIST dataset\n",
    "mnist = keras.datasets.mnist\n",
    "(x_train, y_train), (x_test, y_test) = mnist.load_data()\n",
    "\n",
    "# Normalize the data\n",
    "x_train, x_test = x_train / 255.0, x_test / 255.0\n",
    "\n",
    "# One-hot encoding\n",
    "y_train = to_categorical(y_train, 10)\n",
    "y_test = to_categorical(y_test, 10)\n",
    "\n",
    "# Split validation data\n",
    "x_train, x_val, y_train, y_val = train_test_split(x_train, y_train, test_size=0.1, random_state=42)\n",
    "\n",
    "# ANN Model\n",
    "model = Sequential([\n",
    "    Flatten(input_shape=(28, 28)),\n",
    "    Dense(128, activation='relu'),\n",
    "    Dense(64, activation='relu'),\n",
    "    Dense(10, activation='softmax')\n",
    "])\n",
    "\n",
    "# Compile the model\n",
    "model.compile(optimizer='adam', loss='categorical_crossentropy', metrics=['accuracy'])\n",
    "\n",
    "# Train the model\n",
    "history = model.fit(x_train, y_train, validation_data=(x_val, y_val), epochs=10, batch_size=32)\n",
    "\n",
    "# Evaluate on test data\n",
    "test_loss, test_acc = model.evaluate(x_test, y_test)\n",
    "print(f'\\nTest Accuracy: {test_acc * 100:.2f}%')\n"
   ]
  },
  {
   "cell_type": "markdown",
   "id": "b66830dc",
   "metadata": {},
   "source": [
    "# Prediction on New Data"
   ]
  },
  {
   "cell_type": "code",
   "execution_count": 14,
   "id": "d639de65",
   "metadata": {},
   "outputs": [
    {
     "name": "stdout",
     "output_type": "stream",
     "text": [
      "1/1 [==============================] - 0s 40ms/step\n"
     ]
    },
    {
     "data": {
      "image/png": "[encoded data removed]",
      "text/plain": [
       "<Figure size 432x288 with 1 Axes>"
      ]
     },
     "metadata": {
      "needs_background": "light"
     },
     "output_type": "display_data"
    }
   ],
   "source": [
    "import cv2\n",
    "import numpy as np\n",
    "import matplotlib.pyplot as plt\n",
    "\n",
    "# Load a new image (replace 'digit.png' with your actual image)\n",
    "image = cv2.imread('3 hand.png', cv2.IMREAD_GRAYSCALE)\n",
    "\n",
    "# Resize to 28x28 pixels\n",
    "image = cv2.resize(image, (28, 28))\n",
    "\n",
    "# Invert colors if the background is black\n",
    "image = 255 - image  \n",
    "\n",
    "# Normalize (convert pixel values to 0-1 range)\n",
    "image = image / 255.0\n",
    "\n",
    "# Reshape image based on model input\n",
    "image = image.reshape(1, 28,28)\n",
    "\n",
    "# Make prediction\n",
    "prediction = model.predict(image)\n",
    "\n",
    "# Get the digit with highest probability\n",
    "predicted_digit = np.argmax(prediction)\n",
    "\n",
    "# Display result\n",
    "plt.imshow(image.reshape(28, 28), cmap='gray')\n",
    "plt.title(f'Predicted Digit: {predicted_digit}')\n",
    "plt.show()\n"
   ]
  },
  {
   "cell_type": "code",
   "execution_count": null,
   "id": "8d7215dd",
   "metadata": {},
   "outputs": [],
   "source": []
  }
 ],
 "metadata": {
  "kernelspec": {
   "display_name": "Python 3",
   "language": "python",
   "name": "python3"
  },
  "language_info": {
   "codemirror_mode": {
    "name": "ipython",
    "version": 3
   },
   "file_extension": ".py",
   "mimetype": "text/x-python",
   "name": "python",
   "nbconvert_exporter": "python",
   "pygments_lexer": "ipython3",
   "version": "3.8.8"
  }
 },
 "nbformat": 4,
 "nbformat_minor": 5
}
